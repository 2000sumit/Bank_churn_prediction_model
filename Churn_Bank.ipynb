{
 "cells": [
  {
   "cell_type": "code",
   "execution_count": 14,
   "id": "5b4ae1fe-22ca-4020-949f-1f9f8c7c552b",
   "metadata": {},
   "outputs": [],
   "source": [
    "# Importing required libraries for data handling, modeling, and evaluation\n",
    "import pandas as pd\n",
    "from sklearn.ensemble import RandomForestClassifier\n",
    "from sklearn.model_selection import train_test_split\n",
    "from sklearn.metrics import classification_report"
   ]
  },
  {
   "cell_type": "code",
   "execution_count": 15,
   "id": "831f832c-78d8-45ac-9beb-2d3c9e086b9c",
   "metadata": {},
   "outputs": [],
   "source": [
    "# Reading the dataset\n",
    "df = pd.read_csv('Bank.csv')"
   ]
  },
  {
   "cell_type": "code",
   "execution_count": 4,
   "id": "82409014-dbf9-435a-a16e-d92a53575312",
   "metadata": {
    "scrolled": true
   },
   "outputs": [
    {
     "name": "stdout",
     "output_type": "stream",
     "text": [
      "Missing values before handling:\n",
      "customer_id         0\n",
      "credit_score        0\n",
      "country             0\n",
      "gender              0\n",
      "age                 0\n",
      "tenure              0\n",
      "balance             0\n",
      "products_number     0\n",
      "credit_card         0\n",
      "active_member       0\n",
      "estimated_salary    0\n",
      "churn               0\n",
      "dtype: int64\n"
     ]
    }
   ],
   "source": [
    "# Quick look at the column names before any transformation\n",
    "print(\"Missing values before handling:\")\n",
    "print(df.isnull().sum())"
   ]
  },
  {
   "cell_type": "code",
   "execution_count": 5,
   "id": "c7271018-65c2-42c8-b55e-ee07972f2d5f",
   "metadata": {},
   "outputs": [],
   "source": [
    "# Mapping categorical string columns to numerical categori\n",
    "df['country'] = df['country'].astype('category').cat.codes\n",
    "df['gender'] = df['gender'].astype('category').cat.codes"
   ]
  },
  {
   "cell_type": "code",
   "execution_count": 16,
   "id": "82549c75-0e94-43e6-8811-d04144fc4319",
   "metadata": {},
   "outputs": [],
   "source": [
    "# Split dataset into input (X) and output (y)\n",
    "X = df.drop(['customer_id', 'churn'], axis=1)\n",
    "y = df['churn']\n"
   ]
  },
  {
   "cell_type": "code",
   "execution_count": 7,
   "id": "fb9c30d8-be87-4104-8350-922cead860bd",
   "metadata": {},
   "outputs": [],
   "source": [
    "# Split into training and testing datasets (80% train, 20% test)\n",
    "X_train, X_test, y_train, y_test = train_test_split(X, y, test_size=0.2, random_state=42)"
   ]
  },
  {
   "cell_type": "code",
   "execution_count": 8,
   "id": "9cd6127e-746d-41ad-ab70-1a10ac56143c",
   "metadata": {},
   "outputs": [
    {
     "data": {
      "text/html": [
       "<style>#sk-container-id-1 {color: black;}#sk-container-id-1 pre{padding: 0;}#sk-container-id-1 div.sk-toggleable {background-color: white;}#sk-container-id-1 label.sk-toggleable__label {cursor: pointer;display: block;width: 100%;margin-bottom: 0;padding: 0.3em;box-sizing: border-box;text-align: center;}#sk-container-id-1 label.sk-toggleable__label-arrow:before {content: \"▸\";float: left;margin-right: 0.25em;color: #696969;}#sk-container-id-1 label.sk-toggleable__label-arrow:hover:before {color: black;}#sk-container-id-1 div.sk-estimator:hover label.sk-toggleable__label-arrow:before {color: black;}#sk-container-id-1 div.sk-toggleable__content {max-height: 0;max-width: 0;overflow: hidden;text-align: left;background-color: #f0f8ff;}#sk-container-id-1 div.sk-toggleable__content pre {margin: 0.2em;color: black;border-radius: 0.25em;background-color: #f0f8ff;}#sk-container-id-1 input.sk-toggleable__control:checked~div.sk-toggleable__content {max-height: 200px;max-width: 100%;overflow: auto;}#sk-container-id-1 input.sk-toggleable__control:checked~label.sk-toggleable__label-arrow:before {content: \"▾\";}#sk-container-id-1 div.sk-estimator input.sk-toggleable__control:checked~label.sk-toggleable__label {background-color: #d4ebff;}#sk-container-id-1 div.sk-label input.sk-toggleable__control:checked~label.sk-toggleable__label {background-color: #d4ebff;}#sk-container-id-1 input.sk-hidden--visually {border: 0;clip: rect(1px 1px 1px 1px);clip: rect(1px, 1px, 1px, 1px);height: 1px;margin: -1px;overflow: hidden;padding: 0;position: absolute;width: 1px;}#sk-container-id-1 div.sk-estimator {font-family: monospace;background-color: #f0f8ff;border: 1px dotted black;border-radius: 0.25em;box-sizing: border-box;margin-bottom: 0.5em;}#sk-container-id-1 div.sk-estimator:hover {background-color: #d4ebff;}#sk-container-id-1 div.sk-parallel-item::after {content: \"\";width: 100%;border-bottom: 1px solid gray;flex-grow: 1;}#sk-container-id-1 div.sk-label:hover label.sk-toggleable__label {background-color: #d4ebff;}#sk-container-id-1 div.sk-serial::before {content: \"\";position: absolute;border-left: 1px solid gray;box-sizing: border-box;top: 0;bottom: 0;left: 50%;z-index: 0;}#sk-container-id-1 div.sk-serial {display: flex;flex-direction: column;align-items: center;background-color: white;padding-right: 0.2em;padding-left: 0.2em;position: relative;}#sk-container-id-1 div.sk-item {position: relative;z-index: 1;}#sk-container-id-1 div.sk-parallel {display: flex;align-items: stretch;justify-content: center;background-color: white;position: relative;}#sk-container-id-1 div.sk-item::before, #sk-container-id-1 div.sk-parallel-item::before {content: \"\";position: absolute;border-left: 1px solid gray;box-sizing: border-box;top: 0;bottom: 0;left: 50%;z-index: -1;}#sk-container-id-1 div.sk-parallel-item {display: flex;flex-direction: column;z-index: 1;position: relative;background-color: white;}#sk-container-id-1 div.sk-parallel-item:first-child::after {align-self: flex-end;width: 50%;}#sk-container-id-1 div.sk-parallel-item:last-child::after {align-self: flex-start;width: 50%;}#sk-container-id-1 div.sk-parallel-item:only-child::after {width: 0;}#sk-container-id-1 div.sk-dashed-wrapped {border: 1px dashed gray;margin: 0 0.4em 0.5em 0.4em;box-sizing: border-box;padding-bottom: 0.4em;background-color: white;}#sk-container-id-1 div.sk-label label {font-family: monospace;font-weight: bold;display: inline-block;line-height: 1.2em;}#sk-container-id-1 div.sk-label-container {text-align: center;}#sk-container-id-1 div.sk-container {/* jupyter's `normalize.less` sets `[hidden] { display: none; }` but bootstrap.min.css set `[hidden] { display: none !important; }` so we also need the `!important` here to be able to override the default hidden behavior on the sphinx rendered scikit-learn.org. See: https://github.com/scikit-learn/scikit-learn/issues/21755 */display: inline-block !important;position: relative;}#sk-container-id-1 div.sk-text-repr-fallback {display: none;}</style><div id=\"sk-container-id-1\" class=\"sk-top-container\"><div class=\"sk-text-repr-fallback\"><pre>RandomForestClassifier(random_state=42)</pre><b>In a Jupyter environment, please rerun this cell to show the HTML representation or trust the notebook. <br />On GitHub, the HTML representation is unable to render, please try loading this page with nbviewer.org.</b></div><div class=\"sk-container\" hidden><div class=\"sk-item\"><div class=\"sk-estimator sk-toggleable\"><input class=\"sk-toggleable__control sk-hidden--visually\" id=\"sk-estimator-id-1\" type=\"checkbox\" checked><label for=\"sk-estimator-id-1\" class=\"sk-toggleable__label sk-toggleable__label-arrow\">RandomForestClassifier</label><div class=\"sk-toggleable__content\"><pre>RandomForestClassifier(random_state=42)</pre></div></div></div></div></div>"
      ],
      "text/plain": [
       "RandomForestClassifier(random_state=42)"
      ]
     },
     "execution_count": 8,
     "metadata": {},
     "output_type": "execute_result"
    }
   ],
   "source": [
    "# Initialize and train the Random Forest classifier\n",
    "model = RandomForestClassifier(random_state=42)\n",
    "model.fit(X_train, y_train)\n"
   ]
  },
  {
   "cell_type": "code",
   "execution_count": 9,
   "id": "bf6d4ccb-af30-4482-bc15-165592d9bae8",
   "metadata": {},
   "outputs": [
    {
     "name": "stdout",
     "output_type": "stream",
     "text": [
      "\n",
      "Model evaluation:\n",
      "              precision    recall  f1-score   support\n",
      "\n",
      "           0       0.88      0.96      0.92      1607\n",
      "           1       0.75      0.47      0.57       393\n",
      "\n",
      "    accuracy                           0.86      2000\n",
      "   macro avg       0.82      0.71      0.75      2000\n",
      "weighted avg       0.85      0.86      0.85      2000\n",
      "\n"
     ]
    }
   ],
   "source": [
    "# Predict on test data\n",
    "y_pred = model.predict(X_test)\n",
    "# Print classification report to evaluate model\n",
    "print(\"\\nModel evaluation:\")\n",
    "print(classification_report(y_test, y_pred))"
   ]
  },
  {
   "cell_type": "code",
   "execution_count": 10,
   "id": "deececda-9351-4ee3-b637-96fdbdecc62e",
   "metadata": {},
   "outputs": [],
   "source": [
    "# Function to take custom input and return predictions\n",
    "\n",
    "def get_customer_input():\n",
    "    print(\"\\nEnter customer details:\")\n",
    "    credit_score = int(input(\"Credit score: \"))\n",
    "    country = input(\"Country (France/Spain/Germany): \").strip().lower()\n",
    "    gender = input(\"Gender (Male/Female): \").strip().lower()\n",
    "    age = int(input(\"Age: \"))\n",
    "    tenure = int(input(\"Tenure (years with bank): \"))\n",
    "    balance = float(input(\"Balance: \"))\n",
    "    products_number = int(input(\"Number of products: \"))\n",
    "    credit_card = int(input(\"Has credit card (1=Yes, 0=No): \"))\n",
    "    active_member = int(input(\"Is active member (1=Yes, 0=No): \"))\n",
    "    estimated_salary = float(input(\"Estimated salary: \"))\n",
    "\n",
    "    # Encode country and gender\n",
    "    country_map = {'france': 0, 'spain': 1, 'germany': 2}\n",
    "    gender_map = {'male': 1, 'female': 0}\n",
    "    country = country_map[country]\n",
    "    gender = gender_map[gender]\n",
    "\n",
    "    data = {\n",
    "        'credit_score': credit_score,\n",
    "        'country': country,\n",
    "        'gender': gender,\n",
    "        'age': age,\n",
    "        'tenure': tenure,\n",
    "        'balance': balance,\n",
    "        'products_number': products_number,\n",
    "        'credit_card': credit_card,\n",
    "        'active_member': active_member,\n",
    "        'estimated_salary': estimated_salary\n",
    "    }\n",
    "    return data"
   ]
  },
  {
   "cell_type": "code",
   "execution_count": 12,
   "id": "83deef3b-fafe-4428-8599-1fbfef2d02a5",
   "metadata": {},
   "outputs": [
    {
     "name": "stdout",
     "output_type": "stream",
     "text": [
      "\n",
      "Enter customer details:\n"
     ]
    },
    {
     "name": "stdin",
     "output_type": "stream",
     "text": [
      "Credit score:  10\n",
      "Country (France/Spain/Germany):  France\n",
      "Gender (Male/Female):  Male\n",
      "Age:  23\n",
      "Tenure (years with bank):  5\n",
      "Balance:  1000000\n",
      "Number of products:  5\n",
      "Has credit card (1=Yes, 0=No):  1\n",
      "Is active member (1=Yes, 0=No):  0\n",
      "Estimated salary:  156600\n"
     ]
    }
   ],
   "source": [
    "# Take custom input from user\n",
    "customer_data = get_customer_input()\n",
    "df_new = pd.DataFrame([customer_data])"
   ]
  },
  {
   "cell_type": "code",
   "execution_count": 17,
   "id": "9d403084-813b-4f77-92c9-d96a86aa375b",
   "metadata": {},
   "outputs": [
    {
     "name": "stdout",
     "output_type": "stream",
     "text": [
      "\n",
      "Prediction:\n",
      "Will churn? (1=Yes, 0=No): 1\n"
     ]
    }
   ],
   "source": [
    "# Predict for the input customer\n",
    "df_new = df_new[X_train.columns]\n",
    "prediction = model.predict(df_new)\n",
    "print(\"\\nPrediction:\")\n",
    "print(\"Will churn? (1=Yes, 0=No):\", prediction[0])"
   ]
  },
  {
   "cell_type": "code",
   "execution_count": null,
   "id": "4fee09e5-33a3-4a79-bd90-ef1e70b40905",
   "metadata": {},
   "outputs": [],
   "source": []
  }
 ],
 "metadata": {
  "kernelspec": {
   "display_name": "Python 3 (ipykernel)",
   "language": "python",
   "name": "python3"
  },
  "language_info": {
   "codemirror_mode": {
    "name": "ipython",
    "version": 3
   },
   "file_extension": ".py",
   "mimetype": "text/x-python",
   "name": "python",
   "nbconvert_exporter": "python",
   "pygments_lexer": "ipython3",
   "version": "3.11.5"
  }
 },
 "nbformat": 4,
 "nbformat_minor": 5
}
